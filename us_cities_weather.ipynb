{
 "cells": [
  {
   "cell_type": "code",
   "execution_count": 7,
   "metadata": {},
   "outputs": [
    {
     "name": "stdout",
     "output_type": "stream",
     "text": [
      "Failed to fetch data for New York City, New York. HTTP Status: 404\n",
      "Weather data saved to 'C:\\Users\\Amita\\Downloads\\usa_cities_weather.csv'.\n"
     ]
    }
   ],
   "source": [
    "import requests\n",
    "import csv\n",
    "import time\n",
    "import os\n",
    "\n",
    "# List of cities in the USA\n",
    "cities = [\n",
    "    \"New York City, New York\", \"Philadelphia, Pennsylvania\", \"Boston, Massachusetts\", \n",
    "    \"Pittsburgh, Pennsylvania\", \"Newark, New Jersey\", \"Los Angeles, California\",\n",
    "    \"Chicago, Illinois\", \"Houston, Texas\", \"Phoenix, Arizona\", \"San Antonio, Texas\", \n",
    "    \"San Diego, California\", \"Dallas, Texas\", \"San Jose, California\", \"Austin, Texas\", \n",
    "    \"Jacksonville, Florida\", \"Fort Worth, Texas\", \"Columbus, Ohio\", \"Charlotte, North Carolina\", \n",
    "    \"San Francisco, California\", \"Indianapolis, Indiana\", \"Seattle, Washington\", \"Denver, Colorado\", \n",
    "    \"Washington, D.C.\", \"Boston, Massachusetts\", \"El Paso, Texas\", \"Detroit, Michigan\", \n",
    "    \"Nashville, Tennessee\", \"Portland, Oregon\", \"Memphis, Tennessee\", \"Oklahoma City, Oklahoma\", \n",
    "    \"Las Vegas, Nevada\", \"Louisville, Kentucky\", \"Baltimore, Maryland\", \"Milwaukee, Wisconsin\", \n",
    "    \"Albuquerque, New Mexico\", \"Tucson, Arizona\", \"Fresno, California\", \"Sacramento, California\", \n",
    "    \"Kansas City, Missouri\", \"Long Beach, California\", \"Mesa, Arizona\", \"Atlanta, Georgia\", \n",
    "    \"Colorado Springs, Colorado\", \"Virginia Beach, Virginia\", \"Raleigh, North Carolina\", \n",
    "    \"Omaha, Nebraska\", \"Miami, Florida\", \"Oakland, California\", \"Minneapolis, Minnesota\", \n",
    "    \"Tulsa, Oklahoma\", \"Bakersfield, California\", \"New Orleans, Louisiana\", \"Wichita, Kansas\", \n",
    "    \"Cleveland, Ohio\", \"Tampa, Florida\", \"Arlington, Texas\", \"Aurora, Colorado\", \"Honolulu, Hawaii\"\n",
    "]\n",
    "\n",
    "# OpenWeatherMap API details\n",
    "api_key = \"80a1fc9eb21c9255b52df060b52a9a51\"\n",
    "base_url = \"https://api.openweathermap.org/data/2.5/weather\"\n",
    "\n",
    "# Specify the path to save the CSV file on your local machine\n",
    "csv_file = os.path.join(r\"C:\\Users\\Amita\\Downloads\", \"usa_cities_weather.csv\")\n",
    "\n",
    "\n",
    "# Prepare CSV file\n",
    "with open(csv_file, mode=\"w\", newline=\"\") as file:\n",
    "    writer = csv.writer(file)\n",
    "    # Write header\n",
    "    writer.writerow([\n",
    "        \"city\", \"lon\", \"lat\", \"weather_id\", \"weather_main\", \"weather_description\",\n",
    "        \"temp\", \"feels_like\", \"temp_min\", \"temp_max\",\n",
    "        \"pressure\", \"humidity\", \"visibility\",\n",
    "        \"wind_speed\", \"wind_deg\", \"rain_1h\", \"clouds_all\", \"sunrise\", \"sunset\"\n",
    "    ])\n",
    "\n",
    "    # Fetch weather data for each city\n",
    "    for city in cities:\n",
    "        params = {\"q\": f\"{city},US\", \"appid\": api_key, \"units\": \"metric\"}\n",
    "        response = requests.get(base_url, params=params)\n",
    "        if response.status_code == 200:\n",
    "            data = response.json()\n",
    "            rain = data.get(\"rain\", {}).get(\"1h\", 0)  # Handle missing rain data\n",
    "            # Write city weather data to CSV\n",
    "            writer.writerow([\n",
    "                city,\n",
    "                data[\"coord\"][\"lon\"], data[\"coord\"][\"lat\"],\n",
    "                data[\"weather\"][0][\"id\"], data[\"weather\"][0][\"main\"], data[\"weather\"][0][\"description\"],\n",
    "                data[\"main\"][\"temp\"], data[\"main\"][\"feels_like\"], data[\"main\"][\"temp_min\"], data[\"main\"][\"temp_max\"],\n",
    "                data[\"main\"][\"pressure\"], data[\"main\"][\"humidity\"], data.get(\"visibility\", \"N/A\"),\n",
    "                data[\"wind\"][\"speed\"], data[\"wind\"][\"deg\"], rain,\n",
    "                data[\"clouds\"][\"all\"], data[\"sys\"][\"sunrise\"], data[\"sys\"][\"sunset\"]\n",
    "            ])\n",
    "        else:\n",
    "            print(f\"Failed to fetch data for {city}. HTTP Status: {response.status_code}\")\n",
    "        time.sleep(1)  # To avoid hitting the API rate limit\n",
    "\n",
    "print(f\"Weather data saved to '{csv_file}'.\")\n"
   ]
  }
 ],
 "metadata": {
  "kernelspec": {
   "display_name": "Python 3",
   "language": "python",
   "name": "python3"
  },
  "language_info": {
   "codemirror_mode": {
    "name": "ipython",
    "version": 3
   },
   "file_extension": ".py",
   "mimetype": "text/x-python",
   "name": "python",
   "nbconvert_exporter": "python",
   "pygments_lexer": "ipython3",
   "version": "3.13.0"
  }
 },
 "nbformat": 4,
 "nbformat_minor": 2
}
