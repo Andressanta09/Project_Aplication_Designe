{
 "cells": [
  {
   "cell_type": "code",
   "execution_count": 1,
   "id": "1ee12b0d-729a-43fa-b482-19a79a98f302",
   "metadata": {},
   "outputs": [
    {
     "name": "stdout",
     "output_type": "stream",
     "text": [
      "Weather data saved to 'canadian_cities_weather.csv'.\n"
     ]
    }
   ],
   
   "source": [
    "import requests\n",
    "import csv\n",
    "import time\n",
    "import os\n",
    "\n",
    "# List of Canadian cities (you can add more cities as needed)\n",
    "cities = [\"Toronto\", \"Vancouver\", \"Montreal\", \"Calgary\", \"Ottawa\"]\n",
    "\n",
    "# OpenWeatherMap API details\n",
    "api_key = \"80a1fc9eb21c9255b52df060b52a9a51\"\n",
    "base_url = \"https://api.openweathermap.org/data/2.5/weather\"\n",
    "\n",
    "# Specify the path to save the CSV file on your local machine\n",
    "# Example: \"C:/Users/YourUsername/Documents/canadian_cities_weather.csv\" (Windows)\n",
    "# Or \"/Users/YourUsername/Documents/canadian_cities_weather.csv\" (Mac/Linux)\n",
    "csv_file = os.path.join(\"C:\\Users\\sarita\\Downloads,\"canadian_cities_weather.csv\")\n",
    "\n",
    "# Prepare CSV file\n",
    "with open(csv_file, mode=\"w\", newline=\"\") as file:\n",
    "    writer = csv.writer(file)\n",
    "    # Write header\n",
    "    writer.writerow([\n",
    "        \"city\", \"lon\", \"lat\", \"weather_id\", \"weather_main\", \"weather_description\",\n",
    "        \"temp\", \"feels_like\", \"temp_min\", \"temp_max\",\n",
    "        \"pressure\", \"humidity\", \"visibility\",\n",
    "        \"wind_speed\", \"wind_deg\", \"rain_1h\", \"clouds_all\", \"sunrise\", \"sunset\"\n",
    "    ])\n",
    "\n",
    "    # Fetch weather data for each city\n",
    "    for city in cities:\n",
    "        params = {\"q\": f\"{city},CA\", \"appid\": api_key, \"units\": \"metric\"}\n",
    "        response = requests.get(base_url, params=params)\n",
    "        if response.status_code == 200:\n",
    "            data = response.json()\n",
    "            rain = data.get(\"rain\", {}).get(\"1h\", 0)  # Handle missing rain data\n",
    "            # Write city weather data to CSV\n",
    "            writer.writerow([\n",
    "                city,\n",
    "                data[\"coord\"][\"lon\"], data[\"coord\"][\"lat\"],\n",
    "                data[\"weather\"][0][\"id\"], data[\"weather\"][0][\"main\"], data[\"weather\"][0][\"description\"],\n",
    "                data[\"main\"][\"temp\"], data[\"main\"][\"feels_like\"], data[\"main\"][\"temp_min\"], data[\"main\"][\"temp_max\"],\n",
    "                data[\"main\"][\"pressure\"], data[\"main\"][\"humidity\"], data.get(\"visibility\", \"N/A\"),\n",
    "                data[\"wind\"][\"speed\"], data[\"wind\"][\"deg\"], rain,\n",
    "                data[\"clouds\"][\"all\"], data[\"sys\"][\"sunrise\"], data[\"sys\"][\"sunset\"]\n",
    "            ])\n",
    "        else:\n",
    "            print(f\"Failed to fetch data for {city}. HTTP Status: {response.status_code}\")\n",
    "        time.sleep(1)  # To avoid hitting the API rate limit\n",
    "\n",
    "print(f\"Weather data saved to '{csv_file}'.\")\n",
    "[\n",
    "    \"Toronto\", \"Vancouver\", \"Montreal\", \"Calgary\", \"Ottawa\", \n",
    "    \"Edmonton\", \"Red Deer\", \"Lethbridge\", \"Fort McMurray\", \"Grande Prairie\", \n",
    "    \"Surrey\", \"Burnaby\", \"Richmond\", \"Kelowna\", \"Kamloops\", \n",
    "    \"Winnipeg\", \"Brandon\", \"Steinbach\", \"Thompson\", \n",
    "    \"Fredericton\", \"Moncton\", \"Saint John\", \n",
    "    \"St. John's\", \"Corner Brook\", \"Mount Pearl\", \n",
    "    \"Halifax\", \"Sydney\", \"Dartmouth\", \"Truro\", \n",
    "    \"Hamilton\", \"Mississauga\", \"Brampton\", \"Kitchener\", \"London\", \n",
    "    \"Windsor\", \"Kingston\", \"Burlington\", \n",
    "    \"Charlottetown\", \"Summerside\", \n",
    "    \"Quebec City\", \"Laval\", \"Gatineau\", \"Sherbrooke\", \"Trois-Rivières\", \n",
    "    \"Saskatoon\", \"Regina\", \"Prince Albert\", \"Moose Jaw\""
   ]
  },
  {
   "cell_type": "code",
   "execution_count": 3,
   "id": "f9acdd5e-2b39-44e0-9655-6267919ab451",
   "metadata": {},
   "outputs": [
    {
     "name": "stdout",
     "output_type": "stream",
     "text": [
      "Number of rows (excluding header): 5\n",
      "Number of columns: 19\n"
     ]
    }
   ],
   "source": [
    "import csv\n",
    "\n",
    "# Specify the path to the CSV file\n",
    "csv_file = r\"C:\\Users\\sarita\\Downloads\\canadian_cities_weather.csv\"\n",
    "\n",
    "# Open the CSV file and read its contents\n",
    "with open(csv_file, mode=\"r\", newline=\"\") as file:\n",
    "    reader = csv.reader(file)\n",
    "    \n",
    "    # Convert the reader to a list to get the rows\n",
    "    rows = list(reader)\n",
    "    \n",
    "    # Number of rows (excluding the header)\n",
    "    num_rows = len(rows) - 1  # Subtract 1 for the header row\n",
    "    \n",
    "    # Number of columns (based on the first row)\n",
    "    num_columns = len(rows[0]) if rows else 0\n",
    "\n",
    "# Print the number of rows and columns\n",
    "print(f\"Number of rows (excluding header): {num_rows}\")\n",
    "print(f\"Number of columns: {num_columns}\")\n"
   ]
  },
  {
   "cell_type": "code",
   "execution_count": 6,
   "id": "17d8bd07-4e0f-4e40-92f7-9577265e377e",
   "metadata": {},
   "outputs": [
    {
     "name": "stdout",
     "output_type": "stream",
     "text": [
      "Weather data saved to 'C:\\Users\\sarita\\Downloads\\canadian_cities_weather.csv'.\n"
     ]
    }
   ],
   "source": [
    "import requests\n",
    "import csv\n",
    "import time\n",
    "import os\n",
    "\n",
    "# List of Canadian cities (including the expanded list)\n",
    "cities = [\n",
    "    \"Toronto\", \"Vancouver\", \"Montreal\", \"Calgary\", \"Ottawa\", \n",
    "    \"Edmonton\", \"Red Deer\", \"Lethbridge\", \"Fort McMurray\", \"Grande Prairie\", \n",
    "    \"Surrey\", \"Burnaby\", \"Richmond\", \"Kelowna\", \"Kamloops\", \n",
    "    \"Winnipeg\", \"Brandon\", \"Steinbach\", \"Thompson\", \n",
    "    \"Fredericton\", \"Moncton\", \"Saint John\", \n",
    "    \"St. John's\", \"Corner Brook\", \"Mount Pearl\", \n",
    "    \"Halifax\", \"Sydney\", \"Dartmouth\", \"Truro\", \n",
    "    \"Hamilton\", \"Mississauga\", \"Brampton\", \"Kitchener\", \"London\", \n",
    "    \"Windsor\", \"Kingston\", \"Burlington\", \n",
    "    \"Charlottetown\", \"Summerside\", \n",
    "    \"Quebec City\", \"Laval\", \"Gatineau\", \"Sherbrooke\", \"Trois-Rivières\", \n",
    "    \"Saskatoon\", \"Regina\", \"Prince Albert\", \"Moose Jaw\"\n",
    "]\n",
    "\n",
    "# OpenWeatherMap API details\n",
    "api_key = \"80a1fc9eb21c9255b52df060b52a9a51\"\n",
    "base_url = \"https://api.openweathermap.org/data/2.5/weather\"\n",
    "\n",
    "# Specify the path to save the CSV file on your local machine\n",
    "# Use a raw string to avoid issues with backslashes in Windows paths\n",
    "csv_file = os.path.join(r\"C:\\Users\\sarita\\Downloads\", \"canadian_cities_weather.csv\")\n",
    "\n",
    "# Prepare CSV file\n",
    "with open(csv_file, mode=\"w\", newline=\"\") as file:\n",
    "    writer = csv.writer(file)\n",
    "    # Write header\n",
    "    writer.writerow([\n",
    "        \"city\", \"lon\", \"lat\", \"weather_id\", \"weather_main\", \"weather_description\",\n",
    "        \"temp\", \"feels_like\", \"temp_min\", \"temp_max\",\n",
    "        \"pressure\", \"humidity\", \"visibility\",\n",
    "        \"wind_speed\", \"wind_deg\", \"rain_1h\", \"clouds_all\", \"sunrise\", \"sunset\"\n",
    "    ])\n",
    "\n",
    "    # Fetch weather data for each city\n",
    "    for city in cities:\n",
    "        params = {\"q\": f\"{city},CA\", \"appid\": api_key, \"units\": \"metric\"}\n",
    "        response = requests.get(base_url, params=params)\n",
    "        if response.status_code == 200:\n",
    "            data = response.json()\n",
    "            rain = data.get(\"rain\", {}).get(\"1h\", 0)  # Handle missing rain data\n",
    "            # Write city weather data to CSV\n",
    "            writer.writerow([\n",
    "                city,\n",
    "                data[\"coord\"][\"lon\"], data[\"coord\"][\"lat\"],\n",
    "                data[\"weather\"][0][\"id\"], data[\"weather\"][0][\"main\"], data[\"weather\"][0][\"description\"],\n",
    "                data[\"main\"][\"temp\"], data[\"main\"][\"feels_like\"], data[\"main\"][\"temp_min\"], data[\"main\"][\"temp_max\"],\n",
    "                data[\"main\"][\"pressure\"], data[\"main\"][\"humidity\"], data.get(\"visibility\", \"N/A\"),\n",
    "                data[\"wind\"][\"speed\"], data[\"wind\"][\"deg\"], rain,\n",
    "                data[\"clouds\"][\"all\"], data[\"sys\"][\"sunrise\"], data[\"sys\"][\"sunset\"]\n",
    "            ])\n",
    "        else:\n",
    "            print(f\"Failed to fetch data for {city}. HTTP Status: {response.status_code}\")\n",
    "        time.sleep(1)  # To avoid hitting the API rate limit\n",
    "\n",
    "print(f\"Weather data saved to '{csv_file}'.\")\n"
   ]
  },
  {
   "cell_type": "code",
   "execution_count": 9,
   "id": "5cdcd0b0-6e8c-43cb-915c-89802eef4dc9",
   "metadata": {},
   "outputs": [
    {
     "name": "stdout",
     "output_type": "stream",
     "text": [
      "Number of rows (excluding header): 69\n",
      "Number of columns: 19\n"
     ]
    }
   ],
   "source": [
    "import csv\n",
    "\n",
    "# Specify the path to the CSV file\n",
    "csv_file = r\"C:\\Users\\sarita\\Downloads\\canadian_cities_weather.csv\"\n",
    "\n",
    "# Open the CSV file and read its contents\n",
    "with open(csv_file, mode=\"r\", newline=\"\") as file:\n",
    "    reader = csv.reader(file)\n",
    "    \n",
    "    # Convert the reader to a list to get the rows\n",
    "    rows = list(reader)\n",
    "    \n",
    "    # Number of rows (excluding the header)\n",
    "    num_rows = len(rows) - 1  # Subtract 1 for the header row\n",
    "    \n",
    "    # Number of columns (based on the first row)\n",
    "    num_columns = len(rows[0]) if rows else 0\n",
    "\n",
    "# Print the number of rows and columns\n",
    "print(f\"Number of rows (excluding header): {num_rows}\")\n",
    "print(f\"Number of columns: {num_columns}\")\n"
   ]
  },
  {
   "cell_type": "code",
   "execution_count": null,
   "id": "715cc37f-9d9b-41ee-b064-abbe20ce039a",
   "metadata": {},
   "outputs": [],
   "source": []
  }
 ],
 "metadata": {
  "kernelspec": {
   "display_name": "Python 3 (ipykernel)",
   "language": "python",
   "name": "python3"
  },
  "language_info": {
   "codemirror_mode": {
    "name": "ipython",
    "version": 3
   },
   "file_extension": ".py",
   "mimetype": "text/x-python",
   "name": "python",
   "nbconvert_exporter": "python",
   "pygments_lexer": "ipython3",
   "version": "3.12.4"
  }
 },
 "nbformat": 4,
 "nbformat_minor": 5
}
